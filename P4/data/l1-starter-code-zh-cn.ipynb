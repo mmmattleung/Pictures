{
 "cells": [
  {
   "cell_type": "markdown",
   "metadata": {},
   "source": [
    "在开始之前，使用 iPython 笔记本时有几点需要注意一下：\n",
    "\n",
    "- 如果代码单元格被运行之后，在单元格的左侧方框中会有数字出现。\n",
    "- 当你启动一个新的笔记本会话时，请确保运行所有单元格（从第1个到你上次离开的单元格）。即使笔记本中依然可以看到上次运行所得到的输出，你重新运行的笔记本内核却处于一个完全新的状态，所以你需要重载数据和运行代码。\n",
    "- 上一条注意事项特别重要。当你的答案和课程中的练习不一致时，请试着重载数据并一个一个运行代码单元格，以确保你所操作的变量和数据和练习中的一致。\n",
    "\n",
    "\n",
    "## 从 CSV 加载数据"
   ]
  },
  {
   "cell_type": "code",
   "execution_count": 83,
   "metadata": {
    "collapsed": true
   },
   "outputs": [],
   "source": [
    "import unicodecsv\n",
    "\n",
    "## 长代码版本 (该版本与短代码版本功能一致)\n",
    "\n",
    "# enrollments = []\n",
    "# f = open('enrollments.csv', 'rb')\n",
    "# reader = unicodecsv.DictReader(f)\n",
    "# for row in reader:\n",
    "#     enrollments.append(row)\n",
    "# f.close()\n",
    "\n",
    "with open('enrollments.csv', 'rb') as f:\n",
    "    reader = unicodecsv.DictReader(f)\n",
    "    enrollments = list(reader)"
   ]
  },
  {
   "cell_type": "code",
   "execution_count": 84,
   "metadata": {
    "collapsed": true
   },
   "outputs": [],
   "source": [
    "#####################################\n",
    "#                 1                 #\n",
    "#####################################\n",
    "\n",
    "## 从 daily_engagement.csv 和 project_submissions.csv 载入数据并存\n",
    "## 储至下面的变量中，然后检查每张表的第1行。\n",
    "enrollments_filename = '\\Users\\Ming\\P4\\data/enrollments.csv'\n",
    "daily_engagement = '\\Users\\Ming\\P4\\data/daily-engagement.csv'\n",
    "project_submissions = '\\Users\\Ming\\P4\\data/project-submissions.csv'"
   ]
  },
  {
   "cell_type": "code",
   "execution_count": 85,
   "metadata": {
    "collapsed": true
   },
   "outputs": [],
   "source": [
    "import unicodecsv\n",
    "\n",
    "def read_csv(filename):\n",
    "    with open(filename, 'rb') as f:\n",
    "        reader = unicodecsv.DictReader(f)\n",
    "        enrollments = list(reader)\n",
    "        return enrollments"
   ]
  },
  {
   "cell_type": "code",
   "execution_count": 86,
   "metadata": {
    "collapsed": true
   },
   "outputs": [],
   "source": [
    "enrollments =  read_csv(enrollments_filename)"
   ]
  },
  {
   "cell_type": "code",
   "execution_count": 87,
   "metadata": {
    "collapsed": true
   },
   "outputs": [],
   "source": [
    "daily_engagement =  read_csv(daily_engagement)"
   ]
  },
  {
   "cell_type": "code",
   "execution_count": 88,
   "metadata": {
    "collapsed": true
   },
   "outputs": [],
   "source": [
    "project_submissions =  read_csv(project_submissions)"
   ]
  },
  {
   "cell_type": "markdown",
   "metadata": {},
   "source": [
    "## 修正数据类型"
   ]
  },
  {
   "cell_type": "code",
   "execution_count": 89,
   "metadata": {},
   "outputs": [
    {
     "data": {
      "text/plain": [
       "{u'account_key': u'448',\n",
       " u'cancel_date': datetime.datetime(2015, 1, 14, 0, 0),\n",
       " u'days_to_cancel': 65,\n",
       " u'is_canceled': True,\n",
       " u'is_udacity': True,\n",
       " u'join_date': datetime.datetime(2014, 11, 10, 0, 0),\n",
       " u'status': u'canceled'}"
      ]
     },
     "execution_count": 89,
     "metadata": {},
     "output_type": "execute_result"
    }
   ],
   "source": [
    "from datetime import datetime as dt\n",
    "\n",
    "# 将字符串格式的时间转为 Python datetime 类型的时间。\n",
    "# 如果没有时间字符串传入，返回 None\n",
    "\n",
    "def parse_date(date):\n",
    "    if date == '':\n",
    "        return None\n",
    "    else:\n",
    "        return dt.strptime(date, '%Y-%m-%d')\n",
    "    \n",
    "# 将可能是空字符串或字符串类型的数据转为 整型 或 None。\n",
    "\n",
    "def parse_maybe_int(i):\n",
    "    if i == '':\n",
    "        return None\n",
    "    else:\n",
    "        return int(i)\n",
    "\n",
    "# 清理 enrollments 表格中的数据类型\n",
    "\n",
    "for enrollment in enrollments:\n",
    "    enrollment['cancel_date'] = parse_date(enrollment['cancel_date'])\n",
    "    enrollment['days_to_cancel'] = parse_maybe_int(enrollment['days_to_cancel'])\n",
    "    enrollment['is_canceled'] = enrollment['is_canceled'] == 'True'\n",
    "    enrollment['is_udacity'] = enrollment['is_udacity'] == 'True'\n",
    "    enrollment['join_date'] = parse_date(enrollment['join_date'])\n",
    "    \n",
    "enrollments[0]"
   ]
  },
  {
   "cell_type": "code",
   "execution_count": 90,
   "metadata": {},
   "outputs": [
    {
     "data": {
      "text/plain": [
       "{u'acct': u'0',\n",
       " u'lessons_completed': 0,\n",
       " u'num_courses_visited': 1,\n",
       " u'projects_completed': 0,\n",
       " u'total_minutes_visited': 11.6793745,\n",
       " u'utc_date': datetime.datetime(2015, 1, 9, 0, 0)}"
      ]
     },
     "execution_count": 90,
     "metadata": {},
     "output_type": "execute_result"
    }
   ],
   "source": [
    "# 清理 engagement 的数据类型\n",
    "for engagement_record in daily_engagement:\n",
    "    engagement_record['lessons_completed'] = int(float(engagement_record['lessons_completed']))\n",
    "    engagement_record['num_courses_visited'] = int(float(engagement_record['num_courses_visited']))\n",
    "    engagement_record['projects_completed'] = int(float(engagement_record['projects_completed']))\n",
    "    engagement_record['total_minutes_visited'] = float(engagement_record['total_minutes_visited'])\n",
    "    engagement_record['utc_date'] = parse_date(engagement_record['utc_date'])\n",
    "    \n",
    "daily_engagement[0]"
   ]
  },
  {
   "cell_type": "code",
   "execution_count": 91,
   "metadata": {},
   "outputs": [
    {
     "data": {
      "text/plain": [
       "{u'account_key': u'256',\n",
       " u'assigned_rating': u'UNGRADED',\n",
       " u'completion_date': datetime.datetime(2015, 1, 16, 0, 0),\n",
       " u'creation_date': datetime.datetime(2015, 1, 14, 0, 0),\n",
       " u'lesson_key': u'3176718735',\n",
       " u'processing_state': u'EVALUATED'}"
      ]
     },
     "execution_count": 91,
     "metadata": {},
     "output_type": "execute_result"
    }
   ],
   "source": [
    "# 清理 submissions 的数据类型\n",
    "for submission in project_submissions:\n",
    "    submission['completion_date'] = parse_date(submission['completion_date'])\n",
    "    submission['creation_date'] = parse_date(submission['creation_date'])\n",
    "\n",
    "project_submissions[0]"
   ]
  },
  {
   "cell_type": "markdown",
   "metadata": {},
   "source": [
    "注意：当我们在运行上方的单元格时，我们已经改变了数据变量中的内容。如果你试着在同一个会话多次运行这些单元格时，可能会出错。\n",
    "\n",
    "## 探索数据"
   ]
  },
  {
   "cell_type": "code",
   "execution_count": 92,
   "metadata": {
    "collapsed": true
   },
   "outputs": [],
   "source": [
    "def get_unique_students(data):\n",
    "    unique_students = set()\n",
    "    for data_point in data:\n",
    "        unique_students.add(data_point['account_key'])\n",
    "    return unique_students"
   ]
  },
  {
   "cell_type": "code",
   "execution_count": 93,
   "metadata": {},
   "outputs": [
    {
     "data": {
      "text/plain": [
       "1302"
      ]
     },
     "execution_count": 93,
     "metadata": {},
     "output_type": "execute_result"
    }
   ],
   "source": [
    "#####################################\n",
    "#                 2                 #\n",
    "#####################################\n",
    "\n",
    "## 计算每张表中的总行数，和独立学生（拥有独立的 account keys）的数量\n",
    "len(enrollments)\n",
    "\n",
    "unique_enrolled_students = get_unique_students(enrollments)\n",
    "len(unique_enrolled_students)\n"
   ]
  },
  {
   "cell_type": "code",
   "execution_count": 102,
   "metadata": {},
   "outputs": [
    {
     "ename": "KeyError",
     "evalue": "'account_key'",
     "output_type": "error",
     "traceback": [
      "\u001b[0;31m---------------------------------------------------------------------------\u001b[0m",
      "\u001b[0;31mKeyError\u001b[0m                                  Traceback (most recent call last)",
      "\u001b[0;32m<ipython-input-102-9a6d2487c3bc>\u001b[0m in \u001b[0;36m<module>\u001b[0;34m()\u001b[0m\n\u001b[1;32m      1\u001b[0m \u001b[0mlen\u001b[0m\u001b[1;33m(\u001b[0m\u001b[0mdaily_engagement\u001b[0m\u001b[1;33m)\u001b[0m\u001b[1;33m\u001b[0m\u001b[0m\n\u001b[0;32m----> 2\u001b[0;31m \u001b[0munique_engagement_students\u001b[0m \u001b[1;33m=\u001b[0m \u001b[0mget_unique_students\u001b[0m\u001b[1;33m(\u001b[0m\u001b[0mdaily_engagement\u001b[0m\u001b[1;33m)\u001b[0m\u001b[1;33m\u001b[0m\u001b[0m\n\u001b[0m\u001b[1;32m      3\u001b[0m \u001b[0mlen\u001b[0m\u001b[1;33m(\u001b[0m\u001b[0munique_engagement_students\u001b[0m\u001b[1;33m)\u001b[0m\u001b[1;33m\u001b[0m\u001b[0m\n",
      "\u001b[0;32m<ipython-input-92-edd0bf4fefc9>\u001b[0m in \u001b[0;36mget_unique_students\u001b[0;34m(data)\u001b[0m\n\u001b[1;32m      2\u001b[0m     \u001b[0munique_students\u001b[0m \u001b[1;33m=\u001b[0m \u001b[0mset\u001b[0m\u001b[1;33m(\u001b[0m\u001b[1;33m)\u001b[0m\u001b[1;33m\u001b[0m\u001b[0m\n\u001b[1;32m      3\u001b[0m     \u001b[1;32mfor\u001b[0m \u001b[0mdata_point\u001b[0m \u001b[1;32min\u001b[0m \u001b[0mdata\u001b[0m\u001b[1;33m:\u001b[0m\u001b[1;33m\u001b[0m\u001b[0m\n\u001b[0;32m----> 4\u001b[0;31m         \u001b[0munique_students\u001b[0m\u001b[1;33m.\u001b[0m\u001b[0madd\u001b[0m\u001b[1;33m(\u001b[0m\u001b[0mdata_point\u001b[0m\u001b[1;33m[\u001b[0m\u001b[1;34m'account_key'\u001b[0m\u001b[1;33m]\u001b[0m\u001b[1;33m)\u001b[0m\u001b[1;33m\u001b[0m\u001b[0m\n\u001b[0m\u001b[1;32m      5\u001b[0m     \u001b[1;32mreturn\u001b[0m \u001b[0munique_students\u001b[0m\u001b[1;33m\u001b[0m\u001b[0m\n",
      "\u001b[0;31mKeyError\u001b[0m: 'account_key'"
     ]
    }
   ],
   "source": [
    "len(daily_engagement)\n",
    "unique_engagement_students = get_unique_students(daily_engagement)\n",
    "len(unique_engagement_students)"
   ]
  },
  {
   "cell_type": "code",
   "execution_count": 103,
   "metadata": {},
   "outputs": [
    {
     "data": {
      "text/plain": [
       "743"
      ]
     },
     "execution_count": 103,
     "metadata": {},
     "output_type": "execute_result"
    }
   ],
   "source": [
    "len(project_submissions)\n",
    "unique_project_submitters = get_unique_students(project_submissions)\n",
    "len(unique_project_submitters)"
   ]
  },
  {
   "cell_type": "markdown",
   "metadata": {},
   "source": [
    "## 数据中的问题"
   ]
  },
  {
   "cell_type": "code",
   "execution_count": 104,
   "metadata": {},
   "outputs": [],
   "source": [
    "#####################################\n",
    "#                 3                 #\n",
    "#####################################\n",
    "\n",
    "## 将 daily_engagement 表中的 \"acct\" 重命名为 ”account_key\"\n",
    "for engagement_record in daily_engagement:\n",
    "    engagement_record['account_key'] = engagement_record['acct']\n",
    "    del[engagement_record['acct']]"
   ]
  },
  {
   "cell_type": "code",
   "execution_count": 105,
   "metadata": {},
   "outputs": [
    {
     "name": "stdout",
     "output_type": "stream",
     "text": [
      "{u'lessons_completed': 0, u'num_courses_visited': 0, u'total_minutes_visited': 0.0, u'projects_completed': 0, 'account_key': u'0', u'utc_date': datetime.datetime(2015, 4, 19, 0, 0)}\n"
     ]
    }
   ],
   "source": [
    "print daily_engagement[100]"
   ]
  },
  {
   "cell_type": "markdown",
   "metadata": {},
   "source": [
    "## 缺失的互动（Engagement）记录"
   ]
  },
  {
   "cell_type": "code",
   "execution_count": 106,
   "metadata": {},
   "outputs": [
    {
     "ename": "NameError",
     "evalue": "name 'unique_engagement_students' is not defined",
     "output_type": "error",
     "traceback": [
      "\u001b[0;31m---------------------------------------------------------------------------\u001b[0m",
      "\u001b[0;31mNameError\u001b[0m                                 Traceback (most recent call last)",
      "\u001b[0;32m<ipython-input-106-9e4056d1f28b>\u001b[0m in \u001b[0;36m<module>\u001b[0;34m()\u001b[0m\n\u001b[1;32m      7\u001b[0m \u001b[1;32mfor\u001b[0m \u001b[0menrollment\u001b[0m \u001b[1;32min\u001b[0m \u001b[0menrollments\u001b[0m\u001b[1;33m:\u001b[0m\u001b[1;33m\u001b[0m\u001b[0m\n\u001b[1;32m      8\u001b[0m     \u001b[0mstudent\u001b[0m \u001b[1;33m=\u001b[0m \u001b[0menrollment\u001b[0m\u001b[1;33m[\u001b[0m\u001b[1;34m'account_key'\u001b[0m\u001b[1;33m]\u001b[0m\u001b[1;33m\u001b[0m\u001b[0m\n\u001b[0;32m----> 9\u001b[0;31m     \u001b[1;32mif\u001b[0m \u001b[0mstudent\u001b[0m \u001b[1;32mnot\u001b[0m \u001b[1;32min\u001b[0m \u001b[0munique_engagement_students\u001b[0m\u001b[1;33m:\u001b[0m\u001b[1;33m\u001b[0m\u001b[0m\n\u001b[0m\u001b[1;32m     10\u001b[0m         \u001b[1;32mprint\u001b[0m \u001b[0menrollment\u001b[0m\u001b[1;33m\u001b[0m\u001b[0m\n\u001b[1;32m     11\u001b[0m         \u001b[1;32mbreak\u001b[0m\u001b[1;33m\u001b[0m\u001b[0m\n",
      "\u001b[0;31mNameError\u001b[0m: name 'unique_engagement_students' is not defined"
     ]
    }
   ],
   "source": [
    "#####################################\n",
    "#                 4                 #\n",
    "#####################################\n",
    "\n",
    "## 找到任意一个 enrollments 中的学生，但不在 daily engagement 表中。\n",
    "## 打印出这条 enrollments 记录。\n",
    "for enrollment in enrollments:\n",
    "    student = enrollment['account_key']\n",
    "    if student not in unique_engagement_students:\n",
    "        print enrollment\n",
    "        break"
   ]
  },
  {
   "cell_type": "markdown",
   "metadata": {},
   "source": [
    "## 检查更多的问题记录"
   ]
  },
  {
   "cell_type": "code",
   "execution_count": 107,
   "metadata": {},
   "outputs": [
    {
     "ename": "NameError",
     "evalue": "name 'unique_engagement_students' is not defined",
     "output_type": "error",
     "traceback": [
      "\u001b[0;31m---------------------------------------------------------------------------\u001b[0m",
      "\u001b[0;31mNameError\u001b[0m                                 Traceback (most recent call last)",
      "\u001b[0;32m<ipython-input-107-41d96b12d247>\u001b[0m in \u001b[0;36m<module>\u001b[0;34m()\u001b[0m\n\u001b[1;32m      7\u001b[0m \u001b[1;32mfor\u001b[0m \u001b[0menrollment\u001b[0m \u001b[1;32min\u001b[0m \u001b[0menrollments\u001b[0m\u001b[1;33m:\u001b[0m\u001b[1;33m\u001b[0m\u001b[0m\n\u001b[1;32m      8\u001b[0m     \u001b[0mstudent\u001b[0m \u001b[1;33m=\u001b[0m \u001b[0menrollment\u001b[0m\u001b[1;33m[\u001b[0m\u001b[1;34m'account_key'\u001b[0m\u001b[1;33m]\u001b[0m\u001b[1;33m\u001b[0m\u001b[0m\n\u001b[0;32m----> 9\u001b[0;31m     if (student not in unique_engagement_students and \n\u001b[0m\u001b[1;32m     10\u001b[0m             enrollment['join_date'] != enrollment['cancel_date']):\n\u001b[1;32m     11\u001b[0m         \u001b[1;32mprint\u001b[0m \u001b[0menrollment\u001b[0m\u001b[1;33m\u001b[0m\u001b[0m\n",
      "\u001b[0;31mNameError\u001b[0m: name 'unique_engagement_students' is not defined"
     ]
    }
   ],
   "source": [
    "#####################################\n",
    "#                 5                 #\n",
    "#####################################\n",
    "\n",
    "## 计算无众不同的数据点条数（在 enrollments 中存在，但在 engagement 表中缺失）\n",
    "num_problem_students = 0\n",
    "for enrollment in enrollments:\n",
    "    student = enrollment['account_key']\n",
    "    if (student not in unique_engagement_students and \n",
    "            enrollment['join_date'] != enrollment['cancel_date']):\n",
    "        print enrollment\n",
    "        num_problem_students += 1\n",
    "\n",
    "num_problem_students"
   ]
  },
  {
   "cell_type": "markdown",
   "metadata": {},
   "source": [
    "## 追踪剩余的问题"
   ]
  },
  {
   "cell_type": "code",
   "execution_count": 108,
   "metadata": {},
   "outputs": [
    {
     "data": {
      "text/plain": [
       "6"
      ]
     },
     "execution_count": 108,
     "metadata": {},
     "output_type": "execute_result"
    }
   ],
   "source": [
    "# 为所有 Udacity 测试帐号建立一组 set \n",
    "udacity_test_accounts = set()\n",
    "for enrollment in enrollments:\n",
    "    if enrollment['is_udacity']:\n",
    "        udacity_test_accounts.add(enrollment['account_key'])\n",
    "len(udacity_test_accounts)"
   ]
  },
  {
   "cell_type": "code",
   "execution_count": 109,
   "metadata": {
    "collapsed": true
   },
   "outputs": [],
   "source": [
    "# 通过 account_key 删除所有 Udacity 的测试帐号\n",
    "def remove_udacity_accounts(data):\n",
    "    non_udacity_data = []\n",
    "    for data_point in data:\n",
    "        if data_point['account_key'] not in udacity_test_accounts:\n",
    "            non_udacity_data.append(data_point)\n",
    "    return non_udacity_data"
   ]
  },
  {
   "cell_type": "code",
   "execution_count": 110,
   "metadata": {},
   "outputs": [
    {
     "name": "stdout",
     "output_type": "stream",
     "text": [
      "1622\n",
      "135656\n",
      "3634\n"
     ]
    }
   ],
   "source": [
    "# 从3张表中移除所有 Udacity 的测试帐号\n",
    "#完成了第一个项目的学员数据\n",
    "non_udacity_enrollments = remove_udacity_accounts(enrollments)\n",
    "#日常参与学习数据\n",
    "non_udacity_engagement = remove_udacity_accounts(daily_engagement)\n",
    "#每个学生提交数据分析纳米学位项目的数据\n",
    "non_udacity_submissions = remove_udacity_accounts(project_submissions)\n",
    "\n",
    "print len(non_udacity_enrollments)\n",
    "print len(non_udacity_engagement)\n",
    "print len(non_udacity_submissions)"
   ]
  },
  {
   "cell_type": "markdown",
   "metadata": {},
   "source": [
    "## 重新定义问题"
   ]
  },
  {
   "cell_type": "code",
   "execution_count": 137,
   "metadata": {},
   "outputs": [
    {
     "name": "stdout",
     "output_type": "stream",
     "text": [
      "995\n"
     ]
    }
   ],
   "source": [
    "#####################################\n",
    "#                 6                 #\n",
    "#####################################\n",
    "\n",
    "## 创建一个叫 paid_students 的字典，并在字典中存储所有还没有取消或者注册时间超过7天的学生。\n",
    "## 字典的键为帐号（account key），值为学生注册的时间。\n",
    "paid_students = {}\n",
    "for enrollment in non_udacity_enrollments:\n",
    "    if enrollment['days_to_cancel'] == None or enrollment['days_to_cancel'] > 7:\n",
    "        account_key = enrollment['account_key']\n",
    "        join_date = enrollment['join_date']\n",
    "        #为了提出注册多次的学生\n",
    "        if account_key not in paid_students or \\\n",
    "                join_date > paid_students[account_key]: #最近一次的注册日期\n",
    "            paid_students[account_key] = join_date\n",
    "print len(paid_students)\n"
   ]
  },
  {
   "cell_type": "markdown",
   "metadata": {},
   "source": [
    "## 获取第1周的数据\n",
    "获取第1周的数据"
   ]
  },
  {
   "cell_type": "code",
   "execution_count": 138,
   "metadata": {
    "collapsed": true
   },
   "outputs": [],
   "source": [
    "# 基于学生的加入日期和特定一天的互动记录，若该互动记录发生在学生加入1周内，则反回 True\n",
    "\n",
    "def within_one_week(join_date, engagement_date):\n",
    "    time_delta = engagement_date - join_date\n",
    "    return time_delta.days < 7 and time_delta.days >= 0 "
   ]
  },
  {
   "cell_type": "code",
   "execution_count": 139,
   "metadata": {},
   "outputs": [
    {
     "name": "stdout",
     "output_type": "stream",
     "text": [
      "1293\n",
      "134549\n",
      "3618\n"
     ]
    }
   ],
   "source": [
    "#####################################\n",
    "#                 7                 #\n",
    "#####################################\n",
    "\n",
    "## 创建一个 engagement 记录的列表，该列表只包括付费学生以及加入的前7天的学生的记录\n",
    "## 输入符合要求的行数\n",
    "\n",
    "def remove_free_trial_cancels(data):\n",
    "    new_date = []\n",
    "    for data_point in data:\n",
    "        if data_point['account_key'] in paid_students:\n",
    "            new_date.append(data_point)\n",
    "    return new_date\n",
    "\n",
    "# print len(non_udacity_enrollments)\n",
    "# print len(non_udacity_engagement)\n",
    "# print len(non_udacity_submissions)\n",
    "\n",
    "paid_enrollments = remove_free_trial_cancels(non_udacity_enrollments)\n",
    "paid_engagement = remove_free_trial_cancels(non_udacity_engagement)\n",
    "paid_submissions = remove_free_trial_cancels(non_udacity_submissions)\n",
    "\n",
    "print len(paid_enrollments)\n",
    "print len(paid_engagement)\n",
    "print len(paid_submissions)"
   ]
  },
  {
   "cell_type": "code",
   "execution_count": 140,
   "metadata": {
    "collapsed": true
   },
   "outputs": [],
   "source": [
    "for engagement_record in paid_engagement:\n",
    "    if engagement_record['num_courses_visited'] > 0:\n",
    "        engagement_record['has_visited'] = 1\n",
    "    else:\n",
    "        engagement_record['has_visited'] = 0"
   ]
  },
  {
   "cell_type": "code",
   "execution_count": 141,
   "metadata": {},
   "outputs": [
    {
     "data": {
      "text/plain": [
       "6919"
      ]
     },
     "execution_count": 141,
     "metadata": {},
     "output_type": "execute_result"
    }
   ],
   "source": [
    "paid_engagement_in_first_week = []\n",
    "\n",
    "for engagement_student in paid_engagement:\n",
    "    account_key = engagement_student['account_key']\n",
    "    record_date = engagement_student['utc_date']\n",
    "    join_date = paid_students[account_key]\n",
    "    if within_one_week(join_date, record_date):\n",
    "        paid_engagement_in_first_week.append(engagement_student)\n",
    "\n",
    "    #付费的，一周内有学习的学生\n",
    "len(paid_engagement_in_first_week)"
   ]
  },
  {
   "cell_type": "markdown",
   "metadata": {},
   "source": [
    "## Exploring Student Engagement"
   ]
  },
  {
   "cell_type": "code",
   "execution_count": 116,
   "metadata": {
    "collapsed": true
   },
   "outputs": [],
   "source": [
    "from collections import defaultdict\n",
    "\n",
    "# 创建基于 student 对 engagement 进行分组的字典，字典的键为帐号（account key），值为包含互动记录的列表\n",
    "\n",
    "#如果 engagement_by_account 没有就返回空列表\n",
    "engagement_by_account = defaultdict(list)\n",
    "for engagement_record in paid_engagement_in_first_week:\n",
    "    account_key = engagement_record['account_key']\n",
    "    #defaultdict类的初始化函数接受一个类型作为参数，当所访问的键不存在的时候，可以实例化一个值作为默认值\n",
    "    engagement_by_account[account_key].append(engagement_record)\n"
   ]
  },
  {
   "cell_type": "code",
   "execution_count": 117,
   "metadata": {
    "collapsed": true
   },
   "outputs": [],
   "source": [
    "# 创建一个包含学生在第1周在教室所花总时间和字典。键为帐号（account key），值为数字（所花总时间）\n",
    "total_minutes_by_account = {}\n",
    "for account_key, engagement_for_student in engagement_by_account.items():\n",
    "    total_minutes = 0\n",
    "    for engagement_record in engagement_for_student:\n",
    "        total_minutes += engagement_record['total_minutes_visited']\n",
    "    total_minutes_by_account[account_key] = total_minutes"
   ]
  },
  {
   "cell_type": "code",
   "execution_count": 118,
   "metadata": {},
   "outputs": [
    {
     "name": "stdout",
     "output_type": "stream",
     "text": [
      "Mean: 306.708326753\n",
      "Standard deviation: 412.996933409\n",
      "Minimum: 0.0\n",
      "Maximum: 3564.7332645\n"
     ]
    }
   ],
   "source": [
    "import numpy as np\n",
    "\n",
    "# 汇总和描述关于教室所花时间的数据\n",
    "total_minutes = total_minutes_by_account.values()\n",
    "print 'Mean:', np.mean(total_minutes)\n",
    "print 'Standard deviation:', np.std(total_minutes)\n",
    "print 'Minimum:', np.min(total_minutes)\n",
    "print 'Maximum:', np.max(total_minutes)\n",
    "\n"
   ]
  },
  {
   "cell_type": "markdown",
   "metadata": {},
   "source": [
    "## 纠错现有的数据分析代码"
   ]
  },
  {
   "cell_type": "code",
   "execution_count": 119,
   "metadata": {},
   "outputs": [
    {
     "name": "stdout",
     "output_type": "stream",
     "text": [
      "[{u'lessons_completed': 0, u'num_courses_visited': 2, 'has_visited': 1, u'total_minutes_visited': 25.9137858334, u'projects_completed': 0, 'account_key': u'108', u'utc_date': datetime.datetime(2015, 4, 20, 0, 0)}, {u'lessons_completed': 0, u'num_courses_visited': 1, 'has_visited': 1, u'total_minutes_visited': 3.40682316667, u'projects_completed': 0, 'account_key': u'108', u'utc_date': datetime.datetime(2015, 4, 21, 0, 0)}, {u'lessons_completed': 0, u'num_courses_visited': 2, 'has_visited': 1, u'total_minutes_visited': 99.1186611667, u'projects_completed': 0, 'account_key': u'108', u'utc_date': datetime.datetime(2015, 4, 22, 0, 0)}, {u'lessons_completed': 0, u'num_courses_visited': 1, 'has_visited': 1, u'total_minutes_visited': 35.8316206667, u'projects_completed': 2, 'account_key': u'108', u'utc_date': datetime.datetime(2015, 4, 23, 0, 0)}, {u'lessons_completed': 0, u'num_courses_visited': 0, 'has_visited': 0, u'total_minutes_visited': 0.0, u'projects_completed': 0, 'account_key': u'108', u'utc_date': datetime.datetime(2015, 4, 24, 0, 0)}, {u'lessons_completed': 0, u'num_courses_visited': 0, 'has_visited': 0, u'total_minutes_visited': 0.0, u'projects_completed': 0, 'account_key': u'108', u'utc_date': datetime.datetime(2015, 4, 25, 0, 0)}, {u'lessons_completed': 0, u'num_courses_visited': 0, 'has_visited': 0, u'total_minutes_visited': 0.0, u'projects_completed': 0, 'account_key': u'108', u'utc_date': datetime.datetime(2015, 4, 26, 0, 0)}]\n"
     ]
    }
   ],
   "source": [
    "#####################################\n",
    "#                 8                 #\n",
    "#####################################\n",
    "\n",
    "## 通过之前的方法检查是否有问题数据存在。\n",
    "## 定位至少一条异常数据，打印出来并检查。\n",
    "for k,v in total_minutes_by_account.items():\n",
    "    if v > 10568:\n",
    "        print k \n",
    "print engagement_by_account[u'108']"
   ]
  },
  {
   "cell_type": "markdown",
   "metadata": {},
   "source": [
    "## 第1周完成的课程数（Lessons）"
   ]
  },
  {
   "cell_type": "code",
   "execution_count": 120,
   "metadata": {
    "collapsed": true
   },
   "outputs": [],
   "source": [
    "#####################################\n",
    "#                 9                 #\n",
    "#####################################\n",
    "## 修改之前的代码，找出第1周学生完成课程数u'lessons_completed的 平均值、标准差、最小值、最大值。尝试创建一个或更多的函数来复用之前的代码\n",
    "\n",
    "from collections import defaultdict\n",
    "\n",
    "def group_date(data, key_name):\n",
    "    # 创建基于 student 对 engagement 进行分组的字典，字典的键为帐号（account key），值为包含互动记录的列表\n",
    "    #如果 engagement_by_account 没有就返回空列表\n",
    "    group_date = defaultdict(list)\n",
    "    for engagement_record in data:\n",
    "        account_key = engagement_record[key_name]\n",
    "        #defaultdict类的初始化函数接受一个类型作为参数，当所访问的键不存在的时候，可以实例化一个值作为默认值\n",
    "        group_date[account_key].append(engagement_record)\n",
    "    return group_date\n",
    "\n",
    "engagement_by_account = group_date(paid_engagement_in_first_week, 'account_key')\n"
   ]
  },
  {
   "cell_type": "code",
   "execution_count": 121,
   "metadata": {},
   "outputs": [
    {
     "name": "stdout",
     "output_type": "stream",
     "text": [
      "{u'619': 6, u'1140': 1, u'669': 0, u'428': 2, u'344': 4, u'0': 1, u'346': 1, u'347': 3, u'340': 1, u'341': 0, u'342': 0, u'343': 0, u'811': 9, u'812': 20, u'348': 0, u'349': 1, u'816': 0, u'918': 0, u'1149': 3, u'719': 0, u'718': 0, u'715': 1, u'426': 0, u'713': 0, u'712': 0, u'710': 0, u'661': 0, u'129': 1, u'660': 0, u'422': 2, u'1060': 1, u'1062': 0, u'1067': 0, u'1066': 0, u'671': 0, u'427': 3, u'298': 1, u'299': 0, u'296': 0, u'297': 2, u'294': 2, u'295': 2, u'292': 0, u'293': 4, u'290': 3, u'291': 0, u'591': 0, u'590': 0, u'593': 0, u'592': 1, u'595': 2, u'594': 0, u'597': 6, u'596': 4, u'195': 4, u'194': 1, u'197': 9, u'196': 1, u'191': 0, u'190': 0, u'193': 0, u'192': 4, u'270': 9, u'271': 5, u'272': 8, u'273': 0, u'274': 6, u'275': 0, u'276': 3, u'277': 2, u'278': 0, u'279': 0, u'497': 1, u'524': 0, u'525': 0, u'526': 18, u'527': 0, u'520': 0, u'1019': 0, u'522': 0, u'523': 0, u'1014': 10, u'1015': 0, u'528': 3, u'529': 0, u'1013': 0, u'1235': 1, u'449': 0, u'391': 0, u'1231': 8, u'443': 4, u'442': 4, u'441': 5, u'440': 0, u'447': 0, u'446': 0, u'445': 0, u'444': 0, u'47': 13, u'108': 0, u'109': 3, u'102': 0, u'103': 7, u'100': 1, u'101': 0, u'106': 0, u'107': 1, u'104': 2, u'105': 0, u'39': 10, u'38': 0, u'906': 0, u'905': 0, u'33': 0, u'32': 0, u'31': 0, u'30': 1, u'37': 5, u'36': 4, u'35': 4, u'34': 1, u'641': 2, u'640': 0, u'1243': 0, u'642': 2, u'645': 2, u'644': 1, u'438': 2, u'439': 2, u'436': 4, u'437': 0, u'434': 5, u'435': 3, u'432': 1, u'433': 0, u'430': 9, u'431': 0, u'339': 0, u'338': 1, u'335': 2, u'334': 0, u'337': 0, u'336': 0, u'331': 2, u'330': 0, u'333': 0, u'332': 1, u'559': 1, u'823': 0, u'854': 2, u'855': 0, u'856': 0, u'857': 0, u'851': 1, u'852': 1, u'345': 0, u'858': 1, u'859': 0, u'748': 4, u'6': 6, u'822': 0, u'43': 0, u'99': 2, u'98': 2, u'91': 1, u'90': 1, u'93': 3, u'92': 3, u'94': 0, u'97': 0, u'96': 0, u'153': 1, u'742': 1, u'743': 0, u'744': 1, u'558': 0, u'746': 3, u'747': 0, u'555': 1, u'554': 2, u'557': 2, u'556': 1, u'551': 0, u'550': 0, u'553': 2, u'552': 5, u'919': 5, u'238': 2, u'239': 0, u'234': 4, u'235': 0, u'236': 3, u'237': 2, u'230': 0, u'231': 0, u'232': 5, u'233': 1, u'1050': 1, u'1198': 0, u'1052': 0, u'1053': 0, u'1054': 0, u'1055': 0, u'1056': 5, u'1058': 0, u'1194': 0, u'1': 0, u'155': 0, u'159': 0, u'146': 0, u'1176': 4, u'618': 4, u'145': 4, u'142': 1, u'143': 1, u'140': 3, u'1170': 0, u'612': 0, u'613': 3, u'610': 4, u'611': 1, u'616': 4, u'617': 0, u'148': 0, u'149': 0, u'511': 3, u'1276': 0, u'154': 4, u'1285': 0, u'1287': 0, u'948': 1, u'1282': 1, u'946': 1, u'1289': 0, u'940': 0, u'941': 0, u'689': 0, u'517': 3, u'687': 0, u'686': 0, u'682': 0, u'458': 0, u'1302': 0, u'459': 6, u'873': 0, u'133': 0, u'132': 1, u'131': 0, u'130': 0, u'137': 3, u'136': 0, u'135': 2, u'134': 6, u'494': 2, u'495': 3, u'139': 1, u'138': 0, u'490': 0, u'491': 2, u'492': 0, u'493': 4, u'24': 4, u'25': 0, u'26': 2, u'27': 3, u'20': 2, u'21': 12, u'22': 5, u'23': 6, u'1220': 0, u'28': 2, u'29': 5, u'407': 4, u'406': 1, u'405': 4, u'404': 2, u'403': 15, u'402': 0, u'401': 0, u'400': 1, u'932': 0, u'931': 0, u'937': 0, u'452': 0, u'409': 1, u'408': 0, u'453': 1, u'414': 0, u'457': 2, u'183': 2, u'265': 3, u'379': 2, u'378': 0, u'228': 3, u'829': 0, u'828': 2, u'371': 0, u'370': 0, u'373': 2, u'372': 1, u'375': 1, u'374': 0, u'377': 6, u'376': 0, u'1278': 0, u'709': 1, u'147': 0, u'704': 0, u'705': 0, u'706': 9, u'144': 1, u'702': 0, u'393': 0, u'392': 5, u'88': 0, u'89': 1, u'397': 0, u'396': 0, u'395': 0, u'394': 2, u'82': 1, u'83': 3, u'80': 1, u'81': 2, u'86': 0, u'87': 1, u'84': 5, u'85': 1, u'797': 0, u'796': 0, u'794': 3, u'793': 0, u'792': 11, u'791': 1, u'141': 2, u'798': 4, u'7': 1, u'170': 2, u'586': 1, u'587': 0, u'584': 0, u'585': 3, u'582': 0, u'583': 6, u'580': 1, u'581': 1, u'1274': 7, u'1131': 5, u'1130': 0, u'1136': 0, u'588': 0, u'589': 0, u'245': 2, u'244': 0, u'246': 1, u'241': 1, u'614': 1, u'243': 0, u'242': 3, u'615': 0, u'249': 5, u'248': 1, u'418': 0, u'519': 4, u'518': 8, u'1009': 0, u'1007': 0, u'510': 1, u'513': 8, u'512': 0, u'515': 1, u'1002': 0, u'1001': 0, u'1000': 1, u'623': 0, u'622': 1, u'621': 1, u'514': 0, u'627': 6, u'626': 1, u'625': 0, u'624': 1, u'450': 5, u'451': 1, u'629': 3, u'628': 1, u'454': 1, u'455': 2, u'456': 0, u'1228': 0, u'179': 5, u'178': 6, u'1139': 1, u'199': 6, u'175': 10, u'174': 1, u'173': 0, u'172': 4, u'171': 5, u'198': 1, u'977': 0, u'182': 1, u'975': 0, u'973': 1, u'972': 0, u'657': 0, u'1080': 0, u'979': 1, u'656': 0, u'599': 1, u'180': 0, u'181': 3, u'186': 2, u'187': 2, u'184': 2, u'185': 0, u'652': 1, u'188': 0, u'189': 7, u'516': 2, u'1123': 0, u'650': 1, u'1124': 0, u'651': 8, u'316': 9, u'1089': 0, u'1088': 0, u'1227': 0, u'1113': 0, u'11': 0, u'10': 0, u'13': 10, u'12': 0, u'15': 1, u'14': 0, u'17': 1, u'16': 1, u'19': 0, u'18': 0, u'864': 0, u'867': 0, u'866': 0, u'354': 3, u'1210': 1, u'1226': 0, u'883': 3, u'882': 0, u'880': 0, u'887': 0, u'885': 27, u'569': 13, u'888': 0, u'1292': 0, u'45': 0, u'322': 0, u'323': 2, u'320': 3, u'321': 0, u'326': 7, u'327': 1, u'324': 6, u'325': 1, u'1224': 0, u'328': 2, u'329': 4, u'562': 1, u'201': 0, u'200': 1, u'203': 2, u'202': 0, u'205': 1, u'204': 2, u'207': 0, u'177': 3, u'209': 0, u'208': 1, u'779': 0, u'778': 0, u'77': 0, u'76': 0, u'75': 0, u'74': 0, u'73': 0, u'72': 7, u'71': 0, u'70': 2, u'655': 0, u'79': 1, u'78': 0, u'1042': 0, u'1040': 0, u'1049': 0, u'1048': 0, u'359': 9, u'358': 0, u'868': 0, u'1142': 0, u'1143': 1, u'1269': 0, u'1268': 0, u'1146': 0, u'1147': 0, u'1144': 0, u'1305': 0, u'667': 0, u'1262': 0, u'665': 0, u'1260': 0, u'1267': 0, u'1266': 0, u'1265': 0, u'1264': 0, u'215': 1, u'653': 8, u'692': 0, u'693': 0, u'690': 0, u'224': 0, u'696': 2, u'697': 0, u'694': 2, u'698': 0, u'1303': 0, u'222': 1, u'542': 6, u'543': 1, u'540': 2, u'541': 0, u'546': 0, u'547': 0, u'544': 6, u'545': 3, u'8': 7, u'548': 2, u'549': 0, u'521': 1, u'990': 0, u'992': 0, u'120': 3, u'121': 3, u'122': 7, u'123': 0, u'124': 0, u'125': 9, u'126': 0, u'127': 1, u'128': 5, u'2': 0, u'176': 6, u'563': 0, u'1022': 0, u'1011': 0, u'928': 0, u'415': 0, u'416': 0, u'417': 0, u'410': 2, u'411': 0, u'412': 0, u'413': 2, u'920': 0, u'498': 5, u'923': 0, u'924': 4, u'419': 0, u'927': 1, u'319': 5, u'318': 0, u'313': 5, u'1029': 0, u'311': 0, u'310': 9, u'317': 17, u'1236': 0, u'315': 3, u'314': 9, u'1177': 1, u'496': 8, u'832': 0, u'833': 0, u'831': 0, u'836': 1, u'834': 0, u'835': 0, u'839': 0, u'3': 0, u'368': 4, u'369': 0, u'366': 0, u'367': 1, u'364': 0, u'365': 0, u'362': 0, u'363': 0, u'360': 3, u'361': 10, u'218': 20, u'1175': 0, u'381': 0, u'382': 1, u'383': 0, u'384': 5, u'385': 2, u'386': 0, u'387': 0, u'388': 5, u'389': 0, u'784': 3, u'380': 0, u'786': 0, u'787': 0, u'780': 0, u'781': 0, u'782': 2, u'1174': 0, u'630': 2, u'114': 1, u'151': 7, u'579': 1, u'578': 0, u'150': 1, u'573': 6, u'572': 6, u'571': 0, u'570': 0, u'577': 0, u'576': 2, u'575': 3, u'574': 0, u'60': 0, u'61': 2, u'62': 1, u'259': 3, u'64': 6, u'65': 3, u'66': 0, u'67': 2, u'68': 0, u'253': 0, u'250': 2, u'251': 1, u'256': 0, u'257': 0, u'254': 0, u'255': 1, u'499': 2, u'157': 0, u'156': 2, u'939': 0, u'730': 0, u'1038': 0, u'938': 0, u'735': 0, u'508': 1, u'736': 0, u'506': 0, u'507': 0, u'1030': 2, u'505': 2, u'502': 3, u'503': 0, u'500': 1, u'501': 0, u'1212': 0, u'631': 1, u'632': 0, u'633': 36, u'1216': 1, u'468': 1, u'636': 0, u'785': 0, u'465': 1, u'464': 4, u'1128': 0, u'466': 1, u'461': 0, u'900': 0, u'463': 2, u'462': 4, u'901': 0, u'168': 0, u'169': 0, u'164': 15, u'165': 2, u'166': 0, u'167': 0, u'160': 2, u'161': 3, u'162': 3, u'163': 20, u'965': 2, u'966': 0, u'967': 2, u'634': 2, u'969': 0, u'1107': 0, u'1102': 0, u'1103': 0, u'934': 0, u'909': 0, u'635': 1, u'678': 0, u'1183': 1, u'877': 0, u'874': 0, u'872': 1, u'643': 5, u'1242': 0, u'9': 2, u'676': 0, u'1244': 0, u'637': 0, u'893': 0, u'647': 0, u'896': 0, u'897': 0, u'670': 5, u'1087': 1, u'646': 2, u'1099': 1, u'649': 8, u'1199': 0, u'1247': 0, u'672': 0, u'1277': 0, u'1248': 0, u'1173': 0, u'357': 0, u'356': 0, u'355': 10, u'808': 0, u'353': 1, u'352': 2, u'351': 1, u'350': 0, u'568': 0, u'801': 0, u'800': 1, u'1263': 1, u'806': 0, u'805': 0, u'804': 0, u'216': 1, u'217': 0, u'214': 0, u'769': 0, u'212': 0, u'213': 6, u'210': 1, u'211': 5, u'762': 0, u'42': 2, u'761': 0, u'764': 0, u'219': 2, u'41': 1, u'1259': 0, u'1077': 0, u'1074': 0, u'1075': 0, u'1072': 0, u'1073': 0, u'1070': 16, u'1071': 0, u'289': 7, u'288': 0, u'608': 1, u'4': 0, u'281': 0, u'280': 1, u'283': 0, u'282': 2, u'285': 0, u'284': 1, u'287': 2, u'286': 2, u'1094': 1, u'1095': 0, u'1096': 7, u'1090': 0, u'674': 1, u'1154': 0, u'1157': 0, u'1098': 1, u'1150': 3, u'1153': 2, u'673': 0, u'263': 2, u'262': 0, u'261': 0, u'260': 5, u'267': 1, u'266': 10, u'1178': 0, u'264': 1, u'1121': 0, u'269': 1, u'268': 5, u'1082': 1, u'59': 0, u'58': 3, u'1215': 6, u'55': 4, u'54': 1, u'57': 1, u'56': 0, u'51': 0, u'258': 3, u'53': 3, u'52': 0, u'537': 0, u'536': 0, u'535': 4, u'63': 5, u'533': 3, u'532': 1, u'531': 5, u'530': 7, u'598': 2, u'152': 4, u'1081': 0, u'538': 0, u'988': 0, u'989': 0, u'983': 0, u'986': 3, u'777': 1, u'984': 1, u'50': 2, u'115': 0, u'252': 2, u'117': 1, u'776': 0, u'111': 1, u'110': 9, u'113': 0, u'69': 0, u'771': 1, u'5': 0, u'119': 0, u'118': 5, u'773': 0, u'206': 3, u'429': 0, u'1257': 0, u'1254': 0, u'534': 4, u'666': 0, u'1253': 0, u'1250': 0, u'1251': 0, u'421': 2, u'420': 2, u'423': 2, u'916': 1, u'425': 8, u'424': 0, u'913': 0, u'912': 0, u'308': 2, u'309': 0, u'300': 0, u'301': 6, u'302': 2, u'303': 4, u'304': 1, u'305': 3, u'306': 0, u'307': 0, u'825': 0, u'824': 1, u'846': 0, u'844': 6, u'843': 5, u'840': 0, u'1151': 0, u'853': 0, u'539': 0, u'1209': 2, u'648': 0, u'1249': 0, u'240': 0, u'1208': 1, u'390': 0, u'732': 0, u'753': 0, u'752': 0, u'751': 1, u'757': 0, u'756': 0, u'755': 0, u'754': 2, u'560': 0, u'561': 1, u'759': 0, u'509': 1, u'564': 0, u'565': 5, u'566': 0, u'567': 1, u'1032': 0, u'229': 0, u'1033': 9, u'227': 1, u'226': 3, u'225': 1, u'985': 0, u'223': 0, u'504': 3, u'221': 1, u'220': 4, u'1031': 0, u'1188': 2, u'1189': 0, u'1036': 0, u'1185': 1, u'1182': 1, u'1028': 0, u'1181': 0, u'726': 0, u'116': 5, u'722': 1, u'720': 1, u'1160': 0, u'1167': 3, u'729': 0, u'605': 1, u'604': 8, u'607': 1, u'606': 2, u'601': 0, u'600': 0, u'603': 1, u'602': 1, u'1205': 0, u'158': 0, u'1207': 0, u'112': 2, u'609': 0, u'1200': 1, u'1202': 1, u'1204': 2, u'1211': 0, u'976': 0, u'1161': 0, u'469': 5, u'399': 0, u'1217': 1, u'958': 0, u'398': 0, u'1214': 0, u'48': 12, u'49': 0, u'46': 0, u'950': 1, u'44': 0, u'952': 1, u'955': 0, u'954': 0, u'40': 6, u'956': 0, u'1111': 0, u'1110': 0, u'1298': 2, u'1299': 0, u'1115': 0, u'1117': 0, u'639': 0, u'620': 1, u'1118': 1, u'1290': 0, u'467': 0, u'1206': 0, u'460': 0, u'1163': 0, u'489': 6, u'488': 0, u'487': 4, u'486': 0, u'485': 2, u'484': 0, u'483': 0, u'482': 1, u'481': 5, u'480': 0, u'1201': 2, u'472': 0, u'473': 0, u'471': 1, u'476': 1, u'477': 1, u'474': 5, u'475': 1, u'478': 0, u'479': 3}\n"
     ]
    }
   ],
   "source": [
    "import numpy as np\n",
    "\n",
    "def sum_grouped_items(group_data, field_name):\n",
    "    total_by_account = {}\n",
    "    for account_key, engagement_for_student in group_data.items():\n",
    "        total = 0\n",
    "        for engagement_record in engagement_for_student:\n",
    "            total += engagement_record[field_name]\n",
    "        total_by_account[account_key] = total\n",
    "    return total_by_account\n",
    "\n",
    "#num_courses_visited\n",
    "lessons_completed = sum_grouped_items(engagement_by_account, 'lessons_completed')\n",
    "print lessons_completed\n",
    "# print num_courses_visited"
   ]
  },
  {
   "cell_type": "code",
   "execution_count": 146,
   "metadata": {},
   "outputs": [
    {
     "name": "stdout",
     "output_type": "stream",
     "text": [
      "Mean: 1.63618090452\n",
      "Standard deviation: 3.00256129983\n",
      "Minimum: 0\n",
      "Maximum: 36\n"
     ]
    }
   ],
   "source": [
    "import numpy as np\n",
    "\n",
    "def count_data(arg):\n",
    "    name = arg.values()\n",
    "    \n",
    "    print 'Mean:', np.mean(name)\n",
    "    print 'Standard deviation:', np.std(name)\n",
    "    print 'Minimum:', np.min(name)\n",
    "    print 'Maximum:', np.max(name)\n",
    "\n",
    "count_data(lessons_completed)"
   ]
  },
  {
   "cell_type": "markdown",
   "metadata": {},
   "source": [
    "## 第1周的访问次数"
   ]
  },
  {
   "cell_type": "code",
   "execution_count": 123,
   "metadata": {
    "collapsed": true
   },
   "outputs": [],
   "source": [
    "######################################\n",
    "#                 10                 #\n",
    "######################################\n",
    "\n",
    "## 找出第1周学生访问教室天数的平均值、标准差、最小值、最大值。\n",
    "\n",
    "sum_has_visited = sum_grouped_items(engagement_by_account, 'has_visited')\n"
   ]
  },
  {
   "cell_type": "code",
   "execution_count": 124,
   "metadata": {},
   "outputs": [
    {
     "name": "stdout",
     "output_type": "stream",
     "text": [
      "Mean: 2.86733668342\n",
      "Standard deviation: 2.25519800292\n",
      "Minimum: 0\n",
      "Maximum: 7\n"
     ]
    }
   ],
   "source": [
    "import numpy as np\n",
    "\n",
    "def count_data(arg):\n",
    "    name = arg.values()\n",
    "    print 'Mean:', np.mean(name)\n",
    "    print 'Standard deviation:', np.std(name)\n",
    "    print 'Minimum:', np.min(name)\n",
    "    print 'Maximum:', np.max(name)\n",
    "\n",
    "count_data(sum_has_visited)"
   ]
  },
  {
   "cell_type": "markdown",
   "metadata": {},
   "source": [
    "## 区分项目通过的学生"
   ]
  },
  {
   "cell_type": "code",
   "execution_count": 125,
   "metadata": {
    "collapsed": true
   },
   "outputs": [],
   "source": [
    "######################################\n",
    "#                 11                 #\n",
    "######################################\n",
    "\n",
    "## 创建两个付费学生第1周的互动数据列表（engagement）。第1个包含通过项目的学生，第2个包含没通过项目的学生。\n",
    "\n",
    "\n",
    "\n"
   ]
  },
  {
   "cell_type": "code",
   "execution_count": 143,
   "metadata": {},
   "outputs": [
    {
     "data": {
      "text/plain": [
       "637"
      ]
     },
     "execution_count": 143,
     "metadata": {},
     "output_type": "execute_result"
    }
   ],
   "source": [
    "# paid_engagement_in_first_week = []\n",
    "\n",
    "# for engagement_student in paid_engagement:\n",
    "#     account_key = engagement_student['account_key']\n",
    "#     record_date = engagement_student['utc_date']\n",
    "#     join_date = paid_students[account_key]\n",
    "#     if within_one_week(join_date, record_date):\n",
    "#         paid_engagement_in_first_week.append(engagement_student)\n",
    "\n",
    "#     #付费的，一周内有学习的学生\n",
    "# len(paid_engagement_in_first_week)\n",
    "#paid_submissions\n",
    "subway_project_lesson_keys = ['746169184', '3176718735']\n",
    "\n",
    "pass_subway_project = set()\n",
    "for submission in paid_submissions:\n",
    "    project = submission['lesson_key']\n",
    "    assigned_rating = submission['assigned_rating']\n",
    "    if (assigned_rating == 'PASSED'or assigned_rating == 'DISTINCTION ' )and \\\n",
    "            project in subway_project_lesson_keys:\n",
    "        pass_subway_project.add(submission['account_key'])\n",
    "\n",
    "len(pass_subway_project)      \n"
   ]
  },
  {
   "cell_type": "code",
   "execution_count": 142,
   "metadata": {},
   "outputs": [
    {
     "name": "stdout",
     "output_type": "stream",
     "text": [
      "4457\n",
      "2462\n"
     ]
    }
   ],
   "source": [
    "#paid_engagement_in_first_week 付费的第一周学生学习情况\n",
    "passing_engagement = []\n",
    "non_passing_engagement = []\n",
    "for engagement_record in paid_engagement_in_first_week:\n",
    "    if engagement_record['account_key'] in pass_subway_project:\n",
    "        passing_engagement.append(engagement_record)\n",
    "    else:\n",
    "        non_passing_engagement.append(engagement_record)\n",
    "\n",
    "print len(passing_engagement)\n",
    "print len(non_passing_engagement)"
   ]
  },
  {
   "cell_type": "markdown",
   "metadata": {},
   "source": [
    "## 对比两组学生数据"
   ]
  },
  {
   "cell_type": "code",
   "execution_count": 150,
   "metadata": {
    "collapsed": true
   },
   "outputs": [],
   "source": [
    "import matplotlib.pyplot as plt\n",
    "import numpy as np\n",
    "\n",
    "def count_data(arg):\n",
    "    name = arg.values()\n",
    "    %matplotlib inline\n",
    "    plt.hist(name)\n",
    "    print 'Mean:', np.mean(name)\n",
    "    print 'Standard deviation:', np.std(name)\n",
    "    print 'Minimum:', np.min(name)\n",
    "    print 'Maximum:', np.max(name)"
   ]
  },
  {
   "cell_type": "code",
   "execution_count": 152,
   "metadata": {},
   "outputs": [
    {
     "name": "stdout",
     "output_type": "stream",
     "text": [
      "Mean: 393.386172311\n",
      "Standard deviation: 449.204283129\n",
      "Minimum: 0.0\n",
      "Maximum: 3564.7332645\n"
     ]
    },
    {
     "data": {
      "image/png": "[encoded data removed]",
      "text/plain": [
       "<matplotlib.figure.Figure at 0x10beee10>"
      ]
     },
     "metadata": {},
     "output_type": "display_data"
    }
   ],
   "source": [
    "######################################\n",
    "#                 12                 #\n",
    "######################################\n",
    "\n",
    "## 计算你所感兴趣的数据指标，并分析通过项目和没有通过项目的两组学生有何异同。\n",
    "## 你可以从我们之前使用过的数据指标开始（教室的访问时间、课程完成数、访问天数）。\n",
    "#访问时间\n",
    "passing_group =  group_date(passing_engagement, 'account_key')\n",
    "non_passing_group =  group_date(non_passing_engagement, 'account_key')\n",
    "sum_grouped_items_passing = sum_grouped_items(passing_group, 'total_minutes_visited')\n",
    "sum_grouped_items_non_passing = sum_grouped_items(non_passing_group, 'total_minutes_visited')\n",
    "count_data_passing = count_data(sum_grouped_items_passing)\n"
   ]
  },
  {
   "cell_type": "code",
   "execution_count": 153,
   "metadata": {},
   "outputs": [
    {
     "name": "stdout",
     "output_type": "stream",
     "text": [
      "Mean: 152.479869715\n",
      "Standard deviation: 279.042488894\n",
      "Minimum: 0.0\n",
      "Maximum: 1768.52274933\n"
     ]
    },
    {
     "data": {
      "image/png": "[encoded data removed]",
      "text/plain": [
       "<matplotlib.figure.Figure at 0x77d00f0>"
      ]
     },
     "metadata": {},
     "output_type": "display_data"
    }
   ],
   "source": [
    "count_data_non_passing = count_data(sum_grouped_items_non_passing)"
   ]
  },
  {
   "cell_type": "code",
   "execution_count": 154,
   "metadata": {},
   "outputs": [
    {
     "name": "stdout",
     "output_type": "stream",
     "text": [
      "Mean: 2.05337519623\n",
      "Standard deviation: 3.15237949133\n",
      "Minimum: 0\n",
      "Maximum: 36\n"
     ]
    },
    {
     "data": {
      "image/png": "[encoded data removed]",
      "text/plain": [
       "<matplotlib.figure.Figure at 0x76e0080>"
      ]
     },
     "metadata": {},
     "output_type": "display_data"
    }
   ],
   "source": [
    "#课程完成数\n",
    "sum_grouped_items_passing = sum_grouped_items(passing_group, 'lessons_completed')\n",
    "sum_grouped_items_non_passing = sum_grouped_items(non_passing_group, 'lessons_completed')\n",
    "count_data_passing = count_data(sum_grouped_items_passing)\n"
   ]
  },
  {
   "cell_type": "code",
   "execution_count": 155,
   "metadata": {},
   "outputs": [
    {
     "name": "stdout",
     "output_type": "stream",
     "text": [
      "Mean: 0.893854748603\n",
      "Standard deviation: 2.55222899647\n",
      "Minimum: 0\n",
      "Maximum: 27\n"
     ]
    },
    {
     "data": {
      "image/png": "[encoded data removed]",
      "text/plain": [
       "<matplotlib.figure.Figure at 0xadca550>"
      ]
     },
     "metadata": {},
     "output_type": "display_data"
    }
   ],
   "source": [
    "count_data_non_passing = count_data(sum_grouped_items_non_passing)"
   ]
  },
  {
   "cell_type": "code",
   "execution_count": 156,
   "metadata": {},
   "outputs": [
    {
     "name": "stdout",
     "output_type": "stream",
     "text": [
      "Mean: 3.37990580848\n",
      "Standard deviation: 2.25531390442\n",
      "Minimum: 0\n",
      "Maximum: 7\n"
     ]
    },
    {
     "data": {
      "image/png": "[encoded data removed]",
      "text/plain": [
       "<matplotlib.figure.Figure at 0x9f98240>"
      ]
     },
     "metadata": {},
     "output_type": "display_data"
    }
   ],
   "source": [
    "#访问天数\n",
    "sum_grouped_items_passing = sum_grouped_items(passing_group, 'has_visited')\n",
    "sum_grouped_items_non_passing = sum_grouped_items(non_passing_group, 'has_visited')\n",
    "count_data_passing = count_data(sum_grouped_items_passing)\n"
   ]
  },
  {
   "cell_type": "code",
   "execution_count": 157,
   "metadata": {},
   "outputs": [
    {
     "name": "stdout",
     "output_type": "stream",
     "text": [
      "Mean: 1.95530726257\n",
      "Standard deviation: 1.94569063739\n",
      "Minimum: 0\n",
      "Maximum: 7\n"
     ]
    },
    {
     "data": {
      "image/png": "[encoded data removed]",
      "text/plain": [
       "<matplotlib.figure.Figure at 0x11e98898>"
      ]
     },
     "metadata": {},
     "output_type": "display_data"
    }
   ],
   "source": [
    "count_data_non_passing = count_data(sum_grouped_items_non_passing)"
   ]
  },
  {
   "cell_type": "markdown",
   "metadata": {},
   "source": [
    "## 制作直方图"
   ]
  },
  {
   "cell_type": "code",
   "execution_count": 149,
   "metadata": {},
   "outputs": [
    {
     "name": "stdout",
     "output_type": "stream",
     "text": [
      "Mean: 1.95530726257\n",
      "Standard deviation: 1.94569063739\n",
      "Minimum: 0\n",
      "Maximum: 7\n"
     ]
    },
    {
     "data": {
      "image/png": "[encoded data removed]",
      "text/plain": [
       "<matplotlib.figure.Figure at 0x93b8438>"
      ]
     },
     "metadata": {},
     "output_type": "display_data"
    }
   ],
   "source": [
    "######################################\n",
    "#                 13                 #\n",
    "######################################\n",
    "\n",
    "## 针对通过项目和没有通过项目的两组学生，为我们之前研究的三个数据指标制作直方图。\n",
    "## 你也可以为其它你所检验的数据指标来制作直方图。\n",
    "\n",
    "    \n",
    "\n",
    "\n",
    "# count_data_passing = count_data(sum_grouped_items_passing)\n",
    "count_data_non_passing = count_data(sum_grouped_items_non_passing)"
   ]
  },
  {
   "cell_type": "markdown",
   "metadata": {},
   "source": [
    "## 改进图表及分享发现"
   ]
  },
  {
   "cell_type": "code",
   "execution_count": 161,
   "metadata": {},
   "outputs": [
    {
     "data": {
      "text/plain": [
       "<matplotlib.text.Text at 0xdd92630>"
      ]
     },
     "execution_count": 161,
     "metadata": {},
     "output_type": "execute_result"
    },
    {
     "data": {
      "image/png": "[encoded data removed]",
      "text/plain": [
       "<matplotlib.figure.Figure at 0xc693be0>"
      ]
     },
     "metadata": {},
     "output_type": "display_data"
    }
   ],
   "source": [
    "######################################\n",
    "#                 14                 #\n",
    "######################################\n",
    "\n",
    "## 至少改进一幅之前的可视化图表，尝试导入 seaborn 库使你的图表看起来更美观。\n",
    "## 加入轴标签及表头，并修改一个或多个 hist() 内的变量。\n",
    "import seaborn as sns\n",
    "\n",
    "plt.hist(sum_grouped_items_non_passing.values(), bins=8)\n",
    "plt.xlabel('Number of days')\n",
    "plt.title('Distribution of classroom visits in the first week ' + \n",
    "          'for students who do not pass the subway project')\n",
    "\n"
   ]
  },
  {
   "cell_type": "code",
   "execution_count": 162,
   "metadata": {},
   "outputs": [
    {
     "data": {
      "text/plain": [
       "<matplotlib.text.Text at 0xf247ba8>"
      ]
     },
     "execution_count": 162,
     "metadata": {},
     "output_type": "execute_result"
    },
    {
     "data": {
      "image/png": "[encoded data removed]",
      "text/plain": [
       "<matplotlib.figure.Figure at 0xd99a390>"
      ]
     },
     "metadata": {},
     "output_type": "display_data"
    }
   ],
   "source": [
    "plt.hist(sum_grouped_items_passing.values(), bins=8)\n",
    "plt.xlabel('Number of days')\n",
    "plt.title('Distribution of classroom visits in the first week ' + \n",
    "          'for students who pass the subway project')"
   ]
  },
  {
   "cell_type": "code",
   "execution_count": null,
   "metadata": {
    "collapsed": true
   },
   "outputs": [],
   "source": []
  }
 ],
 "metadata": {
  "anaconda-cloud": {},
  "kernelspec": {
   "display_name": "Python 2",
   "language": "python",
   "name": "python2"
  },
  "language_info": {
   "codemirror_mode": {
    "name": "ipython",
    "version": 2
   },
   "file_extension": ".py",
   "mimetype": "text/x-python",
   "name": "python",
   "nbconvert_exporter": "python",
   "pygments_lexer": "ipython2",
   "version": "2.7.13"
  }
 },
 "nbformat": 4,
 "nbformat_minor": 1
}
