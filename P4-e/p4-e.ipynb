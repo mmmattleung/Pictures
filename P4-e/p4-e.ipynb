{
 "cells": [
  {
   "cell_type": "markdown",
   "metadata": {},
   "source": [
    "# 泰坦尼克号数据探索"
   ]
  },
  {
   "cell_type": "markdown",
   "metadata": {},
   "source": [
    "## 有哪些因素会让船上的人生还率更高？\n",
    "\n",
    "### 1、根据性别与船票级别分析生还率\n",
    "### 2、根据上船地点分析生还率"
   ]
  },
  {
   "cell_type": "code",
   "execution_count": 1,
   "metadata": {
    "collapsed": true
   },
   "outputs": [],
   "source": [
    "#读取数据\n",
    "import pandas as pd\n",
    "titanic_data = pd.read_csv('titanic-data.csv')"
   ]
  },
  {
   "cell_type": "code",
   "execution_count": 2,
   "metadata": {},
   "outputs": [
    {
     "name": "stdout",
     "output_type": "stream",
     "text": [
      "<class 'pandas.core.frame.DataFrame'>\n",
      "RangeIndex: 891 entries, 0 to 890\n",
      "Data columns (total 12 columns):\n",
      "PassengerId    891 non-null int64\n",
      "Survived       891 non-null int64\n",
      "Pclass         891 non-null int64\n",
      "Name           891 non-null object\n",
      "Sex            891 non-null object\n",
      "Age            714 non-null float64\n",
      "SibSp          891 non-null int64\n",
      "Parch          891 non-null int64\n",
      "Ticket         891 non-null object\n",
      "Fare           891 non-null float64\n",
      "Cabin          204 non-null object\n",
      "Embarked       889 non-null object\n",
      "dtypes: float64(2), int64(5), object(5)\n",
      "memory usage: 83.6+ KB\n",
      "<class 'pandas.core.frame.DataFrame'>\n",
      "Int64Index: 712 entries, 0 to 890\n",
      "Data columns (total 11 columns):\n",
      "PassengerId    712 non-null int64\n",
      "Survived       712 non-null int64\n",
      "Pclass         712 non-null int64\n",
      "Name           712 non-null object\n",
      "Sex            712 non-null object\n",
      "Age            712 non-null float64\n",
      "SibSp          712 non-null int64\n",
      "Parch          712 non-null int64\n",
      "Ticket         712 non-null object\n",
      "Fare           712 non-null float64\n",
      "Embarked       712 non-null object\n",
      "dtypes: float64(2), int64(5), object(4)\n",
      "memory usage: 66.8+ KB\n"
     ]
    }
   ],
   "source": [
    "#清理缺失数据和不需要的列\n",
    "titanic_data.info()\n",
    "titanic_data = titanic_data.drop('Cabin', axis=1)\n",
    "titanic_data = titanic_data.dropna(axis=0)\n",
    "titanic_data.info()"
   ]
  },
  {
   "cell_type": "code",
   "execution_count": 22,
   "metadata": {},
   "outputs": [
    {
     "name": "stdout",
     "output_type": "stream",
     "text": [
      "Populating the interactive namespace from numpy and matplotlib\n",
      "Sex\n",
      "female    195\n",
      "male       93\n",
      "Name: Survived, dtype: int64\n",
      "Sex\n",
      "female    0.752896\n",
      "male      0.205298\n",
      "Name: Survived, dtype: float64\n"
     ]
    },
    {
     "data": {
      "text/plain": [
       "<matplotlib.text.Text at 0xebceb38>"
      ]
     },
     "execution_count": 22,
     "metadata": {},
     "output_type": "execute_result"
    },
    {
     "data": {
      "image/png": "[encoded data removed]",
      "text/plain": [
       "<matplotlib.figure.Figure at 0xe909ef0>"
      ]
     },
     "metadata": {},
     "output_type": "display_data"
    }
   ],
   "source": [
    "#根据性别生还率\n",
    "%pylab inline\n",
    "import matplotlib.pyplot as plt\n",
    "import seaborn as sns\n",
    "\n",
    "titanic_data_sex = titanic_data.groupby(['Sex'])\n",
    "titanic_data_sex_sum = titanic_data_sex.sum()['Survived']\n",
    "titanic_data_sex_count = titanic_data_sex.count()['Survived']\n",
    "print titanic_data_sex_sum\n",
    "servived_rate_sex = titanic_data_sex_sum / titanic_data_sex_count\n",
    "print servived_rate_sex \n",
    "\n",
    "\n",
    "\n",
    "\n",
    "# #######绘图########\n",
    "\n",
    "# 生还率\n",
    "servived_rate_sex.plot(kind='bar')\n",
    "plt.ylabel('Survival rate')\n",
    "plt.title('Survival rate by {}'.format('sex')) \n",
    "\n"
   ]
  },
  {
   "cell_type": "code",
   "execution_count": 34,
   "metadata": {},
   "outputs": [
    {
     "data": {
      "text/plain": [
       "<matplotlib.text.Text at 0x108c6be0>"
      ]
     },
     "execution_count": 34,
     "metadata": {},
     "output_type": "execute_result"
    },
    {
     "data": {
      "image/png": "[encoded data removed]",
      "text/plain": [
       "<matplotlib.figure.Figure at 0x106fb2b0>"
      ]
     },
     "metadata": {},
     "output_type": "display_data"
    }
   ],
   "source": [
    "# #######绘图########\n",
    "# 人数\n",
    "plt.pie(titanic_data_sex_count, labels=['male', 'female'], autopct='%.1f%%')\n",
    "plt.title('Survival Count by {}'.format('sex')) "
   ]
  },
  {
   "cell_type": "markdown",
   "metadata": {},
   "source": [
    "### 根据性别分类，男性生还率是20.5%,女性是75.3%。女性占总人数的63.6%，男性占总人数的36.4%。"
   ]
  },
  {
   "cell_type": "code",
   "execution_count": 8,
   "metadata": {},
   "outputs": [
    {
     "name": "stdout",
     "output_type": "stream",
     "text": [
      "Pclass\n",
      "1    120\n",
      "2     83\n",
      "3     85\n",
      "Name: Survived, dtype: int64\n",
      "Pclass\n",
      "1    0.652174\n",
      "2    0.479769\n",
      "3    0.239437\n",
      "Name: Survived, dtype: float64\n"
     ]
    },
    {
     "data": {
      "text/plain": [
       "<matplotlib.text.Text at 0xdc52e48>"
      ]
     },
     "execution_count": 8,
     "metadata": {},
     "output_type": "execute_result"
    },
    {
     "data": {
      "image/png": "[encoded data removed]",
      "text/plain": [
       "<matplotlib.figure.Figure at 0xce4a860>"
      ]
     },
     "metadata": {},
     "output_type": "display_data"
    }
   ],
   "source": [
    "#根据船票登记生还率\n",
    "titanic_data_pclass = titanic_data.groupby(['Pclass'])\n",
    "titanic_data_pclass_sum = titanic_data_pclass.sum()['Survived']\n",
    "titanic_data_pclass_count = titanic_data_pclass.count()['Survived']\n",
    "print titanic_data_pclass_sum\n",
    "servived_rate_pclass = titanic_data_pclass_sum / titanic_data_pclass_count\n",
    "print servived_rate_pclass \n",
    "# plt.pie(servived_rate_pclass, labels=['pclass-1','pclass-2','pclass-3'], autopct='%.1f%%')\n",
    "\n",
    "# #######绘图########\n",
    "servived_rate_pclass.plot(kind='bar')\n",
    "plt.ylabel('Survival rate')\n",
    "plt.title('Survival rate by {}'.format('sex')) "
   ]
  },
  {
   "cell_type": "code",
   "execution_count": 44,
   "metadata": {},
   "outputs": [
    {
     "data": {
      "text/plain": [
       "<matplotlib.text.Text at 0x115f3320>"
      ]
     },
     "execution_count": 44,
     "metadata": {},
     "output_type": "execute_result"
    },
    {
     "data": {
      "image/png": "[encoded data removed]",
      "text/plain": [
       "<matplotlib.figure.Figure at 0x112358d0>"
      ]
     },
     "metadata": {},
     "output_type": "display_data"
    }
   ],
   "source": [
    "# #######绘图########\n",
    "# 根据船票登记生还人数比例\n",
    "titanic_data_pclass_count = titanic_data.groupby(['Pclass'],as_index=False)['Survived'].count()\n",
    "plt.pie(titanic_data_pclass_count['Survived'], labels=titanic_data_pclass_count['Pclass'], autopct='%.1f%%')\n",
    "plt.title('Survival Count by {}'.format('Pclass')) "
   ]
  },
  {
   "cell_type": "markdown",
   "metadata": {},
   "source": [
    "### 根据船票登记分类，一等票的人生还率是65.2%，二等票的是47.98%，三等票的是23.94%。\n",
    "### 根据船票登记分类，一等票的人生还人数比例是49.9%，二等票的是25.8%，三等票的是24.3%。"
   ]
  },
  {
   "cell_type": "code",
   "execution_count": 9,
   "metadata": {},
   "outputs": [
    {
     "name": "stdout",
     "output_type": "stream",
     "text": [
      "Sex     Pclass\n",
      "female  1         80\n",
      "        2         68\n",
      "        3         47\n",
      "male    1         40\n",
      "        2         15\n",
      "        3         38\n",
      "Name: Survived, dtype: int64\n",
      "Sex     Pclass\n",
      "female  1          83\n",
      "        2          74\n",
      "        3         102\n",
      "male    1         101\n",
      "        2          99\n",
      "        3         253\n",
      "Name: Survived, dtype: int64\n",
      "Sex     Pclass\n",
      "female  1         0.963855\n",
      "        2         0.918919\n",
      "        3         0.460784\n",
      "male    1         0.396040\n",
      "        2         0.151515\n",
      "        3         0.150198\n",
      "Name: Survived, dtype: float64\n"
     ]
    }
   ],
   "source": [
    "#根据性别和船票登记的生还人数\n",
    "titanic_data_gb_sex_pclass = titanic_data.groupby(['Sex', 'Pclass'])\n",
    "titanic_data_gb_sex_pclass_sum = titanic_data_gb_sex_pclass.sum()['Survived']\n",
    "print titanic_data_gb_sex_pclass_sum\n",
    "#男女总人数\n",
    "titanic_data_gb_sex_count = titanic_data_gb_sex_pclass.count()['Survived']\n",
    "print titanic_data_gb_sex_count\n",
    "#生还率\n",
    "servived_rate_sex_pclass = titanic_data_gb_sex_pclass_sum / titanic_data_gb_sex_count\n",
    "print servived_rate_sex_pclass "
   ]
  },
  {
   "cell_type": "code",
   "execution_count": 10,
   "metadata": {},
   "outputs": [
    {
     "name": "stdout",
     "output_type": "stream",
     "text": [
      "Populating the interactive namespace from numpy and matplotlib\n"
     ]
    },
    {
     "data": {
      "image/png": "[encoded data removed]",
      "text/plain": [
       "<matplotlib.figure.Figure at 0xde974e0>"
      ]
     },
     "metadata": {},
     "output_type": "display_data"
    }
   ],
   "source": [
    "%pylab inline\n",
    "import matplotlib.pyplot as plt\n",
    "import seaborn as sns\n",
    "\n",
    "x=np.array([1,2,3])  \n",
    "width=0.3 \n",
    "#男女生还率柱状图\n",
    "plt.bar(x-width,servived_rate_sex_pclass.female,width,color='r')  \n",
    "plt.bar(x,servived_rate_sex_pclass.male,width,color='b') \n",
    "#标题\n",
    "plt.title('Survival Rate by Gender and Pclass')\n",
    "#x轴标签\n",
    "plt.xlabel('Pclass')  \n",
    "#y轴标签\n",
    "plt.ylabel('Survival Rate')  \n",
    "#x轴刻度\n",
    "plt.xticks([1,2,3])  \n",
    "#y轴刻度\n",
    "plt.yticks(np.arange(0.0, 1.1, 0.1)) \n",
    "#背景格子\n",
    "plt.grid(True,linestyle='-',color='0.7')  \n",
    "#指示图\n",
    "plt.legend(['Female','Male'])  \n",
    "plt.show()  "
   ]
  },
  {
   "cell_type": "markdown",
   "metadata": {},
   "source": [
    "### 1、女性生还率无论船票级别总体比男性要高，体现“女士优先”这一社会现象。在生还率中，生还率与船票等级正相关。"
   ]
  },
  {
   "cell_type": "code",
   "execution_count": 11,
   "metadata": {},
   "outputs": [
    {
     "name": "stdout",
     "output_type": "stream",
     "text": [
      "<pandas.core.groupby.DataFrameGroupBy object at 0x000000000DE8B0F0>\n"
     ]
    }
   ],
   "source": [
    "#根据上船地点分析生还率\n",
    "titanic_data_embark = titanic_data.groupby(['Embarked'])\n",
    "print titanic_data_embark"
   ]
  },
  {
   "cell_type": "code",
   "execution_count": 12,
   "metadata": {},
   "outputs": [
    {
     "name": "stdout",
     "output_type": "stream",
     "text": [
      "Embarked\n",
      "C     79\n",
      "Q      8\n",
      "S    201\n",
      "Name: Survived, dtype: int64\n",
      "Embarked\n",
      "C    130\n",
      "Q     28\n",
      "S    554\n",
      "Name: Survived, dtype: int64\n",
      "Embarked\n",
      "C    0.607692\n",
      "Q    0.285714\n",
      "S    0.362816\n",
      "Name: Survived, dtype: float64\n"
     ]
    }
   ],
   "source": [
    "titanic_data_embark_sur_sum = titanic_data_embark.sum()['Survived']\n",
    "titanic_data_embark_sur_count = titanic_data_embark.count()['Survived']\n",
    "embark_sur_rate = titanic_data_embark_sur_sum / titanic_data_embark_sur_count\n",
    "print titanic_data_embark_sur_sum\n",
    "print titanic_data_embark_sur_count\n",
    "print embark_sur_rate"
   ]
  },
  {
   "cell_type": "code",
   "execution_count": 16,
   "metadata": {},
   "outputs": [
    {
     "data": {
      "image/png": "[encoded data removed]",
      "text/plain": [
       "<matplotlib.figure.Figure at 0xe579358>"
      ]
     },
     "metadata": {},
     "output_type": "display_data"
    }
   ],
   "source": [
    "plt.xlabel('Survived of Embarked Rate')\n",
    "plt.title('Distribution of different survival rates for the site' )\n",
    "x=np.array([1,2,3])  \n",
    "plt.bar(x,embark_sur_rate,width,color='b') \n",
    "plt.xticks([1,2,3],[\"C\",\"Q\",\"S\"]) \n",
    "plt.ylabel('Survival Rate') \n",
    "plt.yticks(np.arange(0.0, 1.1, 0.1)) \n",
    "plt.show()"
   ]
  },
  {
   "cell_type": "markdown",
   "metadata": {},
   "source": [
    "### 2、根据上船港口不同生还率如下：港口Cherbourg >Queenstown > Southampton"
   ]
  },
  {
   "cell_type": "markdown",
   "metadata": {},
   "source": [
    "# 结论\n",
    "## 该样本总共有891条，经过删除丢失值和不需要使用的值，样本总数为712条，占原数据量的80%，足够说明问题。\n",
    "## 在数据集中未体现当时发生海难时乘客的具体位置以及当时船上是否有大型聚会和活动及其参加者的生还率。这些都是会生还率的因素。\n"
   ]
  }
 ],
 "metadata": {
  "kernelspec": {
   "display_name": "Python 2",
   "language": "python",
   "name": "python2"
  },
  "language_info": {
   "codemirror_mode": {
    "name": "ipython",
    "version": 2
   },
   "file_extension": ".py",
   "mimetype": "text/x-python",
   "name": "python",
   "nbconvert_exporter": "python",
   "pygments_lexer": "ipython2",
   "version": "2.7.13"
  }
 },
 "nbformat": 4,
 "nbformat_minor": 2
}
